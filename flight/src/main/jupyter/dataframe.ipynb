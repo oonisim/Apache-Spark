{
 "cells": [
  {
   "cell_type": "markdown",
   "metadata": {},
   "source": [
    "# Spark Dataframe\n",
    "\n",
    "https://qiita.com/taka4sato/items/4ab2cf9e941599f1c0ca\n",
    "\n"
   ]
  },
  {
   "cell_type": "markdown",
   "metadata": {},
   "source": [
    "# Load web sever log\n",
    "Normalize the column names."
   ]
  },
  {
   "cell_type": "code",
   "execution_count": 1,
   "metadata": {},
   "outputs": [
    {
     "name": "stdout",
     "output_type": "stream",
     "text": [
      "root\n",
      " |-- access_time: timestamp (nullable = true)\n",
      " |-- userID: integer (nullable = true)\n",
      " |-- campaignID: string (nullable = true)\n",
      "\n"
     ]
    },
    {
     "data": {
      "text/plain": [
       "logs = [access_time: timestamp, userID: int ... 1 more field]\n"
      ]
     },
     "metadata": {},
     "output_type": "display_data"
    },
    {
     "data": {
      "text/plain": [
       "[access_time: timestamp, userID: int ... 1 more field]"
      ]
     },
     "execution_count": 1,
     "metadata": {},
     "output_type": "execute_result"
    }
   ],
   "source": [
    "val logs = spark.read.format(\"csv\")\n",
    "    .option(\"header\", true)\n",
    "    .option(\"delimiter\", \",\")\n",
    "    .option(\"dateFormat\", \"yyyy-MM-dd\")\n",
    "    .option(\"inferSchema\", true)\n",
    "    .option(\"quote\", \"\\\"\")\n",
    "    .load(\"../resources/click_data_sample.csv\")\n",
    "    .withColumnRenamed(\"click.at\", \"access_time\")\n",
    "    .withColumnRenamed(\"user.id\", \"userID\")\n",
    "    .withColumnRenamed(\"campaign.id\", \"campaignID\")\n",
    "logs.printSchema()"
   ]
  },
  {
   "cell_type": "code",
   "execution_count": 6,
   "metadata": {},
   "outputs": [
    {
     "name": "stdout",
     "output_type": "stream",
     "text": [
      "+-------------------+------+-----------+\n",
      "|        access_time|userID| campaignID|\n",
      "+-------------------+------+-----------+\n",
      "|2015-04-27 20:40:40|144012|Campaign077|\n",
      "|2015-04-27 00:27:55| 24485|Campaign063|\n",
      "|2015-04-27 00:28:13| 24485|Campaign063|\n",
      "|2015-04-27 00:33:42| 24485|Campaign038|\n",
      "|2015-04-27 01:00:04| 24485|Campaign063|\n",
      "|2015-04-27 16:10:29|145066|Campaign103|\n",
      "|2015-04-27 20:06:46|145066|Campaign103|\n",
      "|2015-04-27 14:52:51|167405|Campaign027|\n",
      "|2015-04-27 22:08:46|167405|Campaign027|\n",
      "|2015-04-27 20:11:34| 80524|Campaign054|\n",
      "+-------------------+------+-----------+\n",
      "only showing top 10 rows\n",
      "\n"
     ]
    }
   ],
   "source": [
    "logs.show(10)"
   ]
  },
  {
   "cell_type": "markdown",
   "metadata": {},
   "source": [
    "# Dataframe Operations"
   ]
  },
  {
   "cell_type": "markdown",
   "metadata": {},
   "source": [
    "### Filter \n",
    "\n",
    "1. Using $-notation\n",
    "\n",
    "<pre>\n",
    "requires: import spark.implicits._\n",
    "df.filter($\"age\" > 18)\n",
    "</pre>\n",
    "\n",
    "2. Referring to the Dataframe\n",
    "<pre>\n",
    "df.filtter(df (\"age\") > 18))\n",
    "</pre>\n",
    "\n",
    "3. Using SQL query string\n",
    "<pre>\n",
    "df.filtter(\"age > 18\") \n",
    "</pre>"
   ]
  },
  {
   "cell_type": "code",
   "execution_count": 7,
   "metadata": {},
   "outputs": [
    {
     "data": {
      "text/plain": [
       "35026"
      ]
     },
     "execution_count": 7,
     "metadata": {},
     "output_type": "execute_result"
    }
   ],
   "source": [
    "logs\n",
    ".filter(($\"access_time\" < \"2015-04-28\") && ($\"userID\" > 24485))\n",
    ".count()"
   ]
  },
  {
   "cell_type": "markdown",
   "metadata": {},
   "source": [
    "### Select"
   ]
  },
  {
   "cell_type": "code",
   "execution_count": 5,
   "metadata": {},
   "outputs": [
    {
     "name": "stdout",
     "output_type": "stream",
     "text": [
      "+-------------------+------+\n",
      "|        access_time|userID|\n",
      "+-------------------+------+\n",
      "|2015-04-27 20:40:40|144012|\n",
      "|2015-04-27 00:27:55| 24485|\n",
      "|2015-04-27 00:28:13| 24485|\n",
      "+-------------------+------+\n",
      "only showing top 3 rows\n",
      "\n"
     ]
    }
   ],
   "source": [
    "logs.select(\"access_time\", \"userID\").show(3)"
   ]
  },
  {
   "cell_type": "markdown",
   "metadata": {},
   "source": [
    "### GroupBy"
   ]
  },
  {
   "cell_type": "code",
   "execution_count": 12,
   "metadata": {},
   "outputs": [
    {
     "name": "stdout",
     "output_type": "stream",
     "text": [
      "+-----------+------+-----+\n",
      "| campaignID|userID|count|\n",
      "+-----------+------+-----+\n",
      "|Campaign047| 30292|  633|\n",
      "|Campaign086|107624|  623|\n",
      "|Campaign047|121150|  517|\n",
      "|Campaign086| 22975|  491|\n",
      "|Campaign122| 90714|  431|\n",
      "+-----------+------+-----+\n",
      "only showing top 5 rows\n",
      "\n"
     ]
    }
   ],
   "source": [
    "import org.apache.spark.sql.functions.desc\n",
    "logs.groupBy(\"campaignID\", \"userID\").count().sort(desc(\"count\")).show(5)"
   ]
  },
  {
   "cell_type": "code",
   "execution_count": null,
   "metadata": {},
   "outputs": [],
   "source": []
  },
  {
   "cell_type": "code",
   "execution_count": null,
   "metadata": {},
   "outputs": [],
   "source": []
  }
 ],
 "metadata": {
  "kernelspec": {
   "display_name": "Apache Toree - Scala",
   "language": "scala",
   "name": "apache_toree_scala"
  },
  "language_info": {
   "codemirror_mode": "text/x-scala",
   "file_extension": ".scala",
   "mimetype": "text/x-scala",
   "name": "scala",
   "pygments_lexer": "scala",
   "version": "2.11.12"
  }
 },
 "nbformat": 4,
 "nbformat_minor": 2
}
