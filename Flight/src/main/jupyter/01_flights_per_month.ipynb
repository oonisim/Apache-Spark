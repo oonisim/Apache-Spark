{
 "cells": [
  {
   "cell_type": "markdown",
   "metadata": {},
   "source": [
    "# Question 01\n",
    "Find the total number of flights for each month.\n",
    "\n",
    "## Assumptions\n",
    "1. Data is clearned and not errorneous\n",
    "2. Timezone consideration is not required"
   ]
  },
  {
   "cell_type": "markdown",
   "metadata": {},
   "source": [
    "# Setup"
   ]
  },
  {
   "cell_type": "code",
   "execution_count": 14,
   "metadata": {},
   "outputs": [],
   "source": [
    "import org.apache.spark.sql.functions._\n",
    "import org.apache.spark.sql.types._\n",
    "import org.apache.spark.sql.SaveMode\n",
    "import org.apache.spark.sql.functions._\n",
    "import java.time.temporal.ChronoUnit\n",
    "import java.time.{Period, LocalDate, Instant}\n",
    "import java.sql.Timestamp"
   ]
  },
  {
   "cell_type": "markdown",
   "metadata": {},
   "source": [
    "### Parition control based on core availability"
   ]
  },
  {
   "cell_type": "code",
   "execution_count": 15,
   "metadata": {},
   "outputs": [
    {
     "data": {
      "text/plain": [
       "NUM_CORES = 4\n",
       "NUM_PARTITIONS = 3\n",
       "spark = <lazy>\n"
      ]
     },
     "metadata": {},
     "output_type": "display_data"
    },
    {
     "data": {
      "text/plain": [
       "<lazy>"
      ]
     },
     "execution_count": 15,
     "metadata": {},
     "output_type": "execute_result"
    }
   ],
   "source": [
    "val NUM_CORES = 4\n",
    "val NUM_PARTITIONS = 3\n",
    "\n",
    "lazy val spark: SparkSession = SparkSession.builder()\n",
    "    .master(\"local\")\n",
    "    .appName(\"flight\")\n",
    "    .getOrCreate()\n",
    "\n",
    "spark.conf.set(\"spark.sql.shuffle.partitions\", NUM_CORES * NUM_PARTITIONS)\n",
    "spark.conf.set(\"spark.default.parallelism\", NUM_CORES * NUM_PARTITIONS)"
   ]
  },
  {
   "cell_type": "markdown",
   "metadata": {},
   "source": [
    "# Tools"
   ]
  },
  {
   "cell_type": "markdown",
   "metadata": {},
   "source": [
    "### Elapsed time profiler"
   ]
  },
  {
   "cell_type": "code",
   "execution_count": 16,
   "metadata": {},
   "outputs": [
    {
     "data": {
      "text/plain": [
       "timing = \n"
      ]
     },
     "metadata": {},
     "output_type": "display_data"
    },
    {
     "data": {
      "text/plain": [
       "timed: [T](label: String, code: => T)T\n"
      ]
     },
     "metadata": {},
     "output_type": "display_data"
    }
   ],
   "source": [
    "val timing = new StringBuffer\n",
    "def timed[T](label: String, code: => T): T = {\n",
    "    val start = System.currentTimeMillis()\n",
    "    val result = code\n",
    "    val stop = System.currentTimeMillis()\n",
    "    timing.append(s\"Processing $label took ${stop - start} ms.\\n\")\n",
    "    result\n",
    "}"
   ]
  },
  {
   "cell_type": "code",
   "execution_count": 17,
   "metadata": {},
   "outputs": [
    {
     "data": {
      "text/plain": [
       "<console>:54: error: missing argument list for method timed\n",
       "Unapplied methods are only converted to functions when a function type is expected.\n",
       "You can make this conversion explicit by writing `timed _` or `timed(_,_)` instead of `timed`.\n",
       "       timed\n",
       "       ^\n",
       "lastException: Throwable = null\n"
      ]
     },
     "metadata": {},
     "output_type": "display_data"
    }
   ],
   "source": [
    "// To flush out error: missing argument list for method timed\n",
    "println(\"\")"
   ]
  },
  {
   "cell_type": "markdown",
   "metadata": {},
   "source": [
    "# Main"
   ]
  },
  {
   "cell_type": "markdown",
   "metadata": {},
   "source": [
    "### UDF"
   ]
  },
  {
   "cell_type": "code",
   "execution_count": 18,
   "metadata": {},
   "outputs": [
    {
     "data": {
      "text/plain": [
       "BASE_LOCALDATE = 2017-01-01\n",
       "udf_months_between = UserDefinedFunction(<function1>,ShortType,Some(List(TimestampType)))\n"
      ]
     },
     "metadata": {},
     "output_type": "display_data"
    },
    {
     "data": {
      "text/plain": [
       "get_months_between: (to: java.sql.Timestamp)Short\n"
      ]
     },
     "metadata": {},
     "output_type": "display_data"
    },
    {
     "data": {
      "text/plain": [
       "UserDefinedFunction(<function1>,ShortType,Some(List(TimestampType)))"
      ]
     },
     "execution_count": 18,
     "metadata": {},
     "output_type": "execute_result"
    }
   ],
   "source": [
    "//val BASE_TIMESTAMP = java.sql.Timestamp.valueOf(\"2017-01-01 00:00:00.0\")\n",
    "val BASE_LOCALDATE = LocalDate.parse(\"2017-01-01\").withDayOfMonth(1)\n",
    "\n",
    "def get_months_between(to: Timestamp): Short = {\n",
    "    val monthsBetween = ChronoUnit.MONTHS.between(\n",
    "        BASE_LOCALDATE,\n",
    "        to.toLocalDateTime().toLocalDate().withDayOfMonth(1)\n",
    "    )\n",
    "    monthsBetween.toShort\n",
    "}\n",
    "val udf_months_between = udf((t:Timestamp) => get_months_between(t))"
   ]
  },
  {
   "cell_type": "markdown",
   "metadata": {},
   "source": [
    "## Constants"
   ]
  },
  {
   "cell_type": "code",
   "execution_count": 19,
   "metadata": {},
   "outputs": [
    {
     "data": {
      "text/plain": [
       "FLIGHTDATA_CSV_PATH = ../resources/flightData.csv\n",
       "PASSENGER_CSV_PATH = ../resources/passengers.csv\n",
       "RESULT_DIR = results/flightsPerMonth\n"
      ]
     },
     "metadata": {},
     "output_type": "display_data"
    },
    {
     "data": {
      "text/plain": [
       "results/flightsPerMonth"
      ]
     },
     "execution_count": 19,
     "metadata": {},
     "output_type": "execute_result"
    }
   ],
   "source": [
    "val FLIGHTDATA_CSV_PATH = \"../resources/flightData.csv\"\n",
    "val PASSENGER_CSV_PATH = \"../resources/passengers.csv\"\n",
    "val RESULT_DIR = \"results/flightsPerMonth\""
   ]
  },
  {
   "cell_type": "markdown",
   "metadata": {},
   "source": [
    "## Base DataFrame"
   ]
  },
  {
   "cell_type": "code",
   "execution_count": 20,
   "metadata": {},
   "outputs": [
    {
     "data": {
      "text/plain": [
       "flightData = [passengerId: int, flightId: int ... 3 more fields]\n"
      ]
     },
     "metadata": {},
     "output_type": "display_data"
    },
    {
     "data": {
      "text/plain": [
       "[passengerId: int, flightId: int ... 3 more fields]"
      ]
     },
     "execution_count": 20,
     "metadata": {},
     "output_type": "execute_result"
    }
   ],
   "source": [
    "val flightData = spark.read.format(\"csv\")\n",
    "    .option(\"header\", \"true\")\n",
    "    .option(\"delimiter\", \",\")\n",
    "    .option(\"dateFormat\", \"yyyy-MM-dd\")\n",
    "    .option(\"inferSchema\", \"true\")\n",
    "    .load(FLIGHTDATA_CSV_PATH)"
   ]
  },
  {
   "cell_type": "markdown",
   "metadata": {},
   "source": [
    "##  Total flights per month\n",
    "Month is in-between the first day of the month and the first day of the next month."
   ]
  },
  {
   "cell_type": "code",
   "execution_count": 21,
   "metadata": {},
   "outputs": [
    {
     "data": {
      "text/plain": [
       "flightsPerMonth = [Month: smallint, Number of Flights: bigint]\n"
      ]
     },
     "metadata": {},
     "output_type": "display_data"
    },
    {
     "data": {
      "text/plain": [
       "[Month: smallint, Number of Flights: bigint]"
      ]
     },
     "execution_count": 21,
     "metadata": {},
     "output_type": "execute_result"
    }
   ],
   "source": [
    "val flightsPerMonth = flightData\n",
    "    .select(\"flightId\", \"date\")\n",
    "    .distinct()\n",
    "    .groupBy(\n",
    "        trunc(col(\"date\"), \"month\").alias(\"Month\")\n",
    "    )\n",
    "    .agg(count(\"flightId\").alias(\"Number of Flights\"))\n",
    "    .orderBy(asc(\"Month\"))\n",
    "    .withColumn(\n",
    "        \"Month\", udf_months_between(col(\"Month\"))\n",
    "    )\n",
    "\n",
    "//flightsPerMonth.printSchema()"
   ]
  },
  {
   "cell_type": "code",
   "execution_count": 22,
   "metadata": {},
   "outputs": [
    {
     "name": "stdout",
     "output_type": "stream",
     "text": [
      "+-----+-----------------+\n",
      "|Month|Number of Flights|\n",
      "+-----+-----------------+\n",
      "|    0|               97|\n",
      "|    1|               73|\n",
      "|    2|               82|\n",
      "|    3|               92|\n",
      "|    4|               92|\n",
      "|    5|               71|\n",
      "|    6|               87|\n",
      "|    7|               76|\n",
      "|    8|               85|\n",
      "|    9|               76|\n",
      "|   10|               75|\n",
      "|   11|               94|\n",
      "+-----+-----------------+\n",
      "\n",
      "Processing Run flights per month took 3123 ms.\n",
      "\n",
      "(12) MapPartitionsRDD[34] at rdd at <console>:63 []\n",
      " |   MapPartitionsRDD[33] at rdd at <console>:63 []\n",
      " |   MapPartitionsRDD[32] at rdd at <console>:63 []\n",
      " |   ShuffledRowRDD[31] at rdd at <console>:63 []\n",
      " +-(12) MapPartitionsRDD[30] at rdd at <console>:63 []\n",
      "    |   MapPartitionsRDD[26] at rdd at <console>:63 []\n",
      "    |   ShuffledRowRDD[25] at rdd at <console>:63 []\n",
      "    +-(12) MapPartitionsRDD[24] at rdd at <console>:63 []\n",
      "       |   MapPartitionsRDD[23] at rdd at <console>:63 []\n",
      "       |   ShuffledRowRDD[22] at rdd at <console>:63 []\n",
      "       +-(1) MapPartitionsRDD[21] at rdd at <console>:63 []\n",
      "          |  MapPartitionsRDD[20] at rdd at <console>:63 []\n",
      "          |  FileScanRDD[19] at rdd at <console>:63 []\n"
     ]
    }
   ],
   "source": [
    "timed(\n",
    "    \"Run flights per month\",\n",
    "    flightsPerMonth.show()\n",
    ")\n",
    "println(timing)\n",
    "println(flightsPerMonth.rdd.toDebugString)\n",
    "\n",
    "flightsPerMonth\n",
    "    .coalesce(1)\n",
    "    .write\n",
    "    .format(\"csv\")\n",
    "    .mode(SaveMode.Overwrite)\n",
    "    .option(\"header\", \"true\")\n",
    "    .save(RESULT_DIR)"
   ]
  },
  {
   "cell_type": "markdown",
   "metadata": {},
   "source": [
    "# Validation"
   ]
  },
  {
   "cell_type": "code",
   "execution_count": 23,
   "metadata": {},
   "outputs": [
    {
     "name": "stdout",
     "output_type": "stream",
     "text": [
      "+--------------------+-------------------+--------------+-------------------+--------------+\n",
      "|count(DISTINCT date)|          min(date)|min(UDF(date))|          max(date)|max(UDF(date))|\n",
      "+--------------------+-------------------+--------------+-------------------+--------------+\n",
      "|                 342|2017-01-01 00:00:00|             0|2017-12-31 00:00:00|            11|\n",
      "+--------------------+-------------------+--------------+-------------------+--------------+\n",
      "\n",
      "+---------------------------+----------------+----------------+\n",
      "|count(DISTINCT passengerId)|min(passengerId)|max(passengerId)|\n",
      "+---------------------------+----------------+----------------+\n",
      "|                      15500|               1|           15500|\n",
      "+---------------------------+----------------+----------------+\n",
      "\n",
      "+------------------------+-------------+-------------+\n",
      "|count(DISTINCT flightId)|min(flightId)|max(flightId)|\n",
      "+------------------------+-------------+-------------+\n",
      "|                    1000|            0|          999|\n",
      "+------------------------+-------------+-------------+\n",
      "\n"
     ]
    }
   ],
   "source": [
    "flightData.select(\n",
    "    countDistinct(\"date\"),\n",
    "    min(\"date\"),\n",
    "    min(udf_months_between(col(\"date\"))),\n",
    "    max(\"date\"),\n",
    "    max(udf_months_between(col(\"date\")))\n",
    ").show\n",
    "\n",
    "flightData.select(\n",
    "    countDistinct(\"passengerId\"),\n",
    "    min(\"passengerId\"),\n",
    "    max(\"passengerId\")\n",
    ").show\n",
    "\n",
    "flightData.select(\n",
    "    countDistinct(\"flightId\"),\n",
    "    min(\"flightId\"),\n",
    "    max(\"flightId\")\n",
    ").show"
   ]
  },
  {
   "cell_type": "markdown",
   "metadata": {},
   "source": [
    "## Assertions"
   ]
  },
  {
   "cell_type": "code",
   "execution_count": 24,
   "metadata": {},
   "outputs": [
    {
     "name": "stdout",
     "output_type": "stream",
     "text": [
      "Distincts 1000 Total 1000\n"
     ]
    },
    {
     "data": {
      "text/plain": [
       "distinctFlights = 1000\n",
       "totalFlights = 1000\n"
      ]
     },
     "metadata": {},
     "output_type": "display_data"
    },
    {
     "data": {
      "text/plain": [
       "1000"
      ]
     },
     "execution_count": 24,
     "metadata": {},
     "output_type": "execute_result"
    }
   ],
   "source": [
    "val distinctFlights = flightData.select(\n",
    "    countDistinct(\"flightId\")\n",
    ").collect().map(r => r.getLong(0)).head\n",
    "\n",
    "val totalFlights = flightsPerMonth.select(\n",
    "    sum(\"Number of Flights\")\n",
    ").collect().map(r => r.getLong(0)).head\n",
    "\n",
    "println(s\"Distincts $distinctFlights Total $totalFlights\")\n",
    "require(distinctFlights == totalFlights)"
   ]
  }
 ],
 "metadata": {
  "kernelspec": {
   "display_name": "Apache Toree - Scala",
   "language": "scala",
   "name": "apache_toree_scala"
  },
  "language_info": {
   "codemirror_mode": "text/x-scala",
   "file_extension": ".scala",
   "mimetype": "text/x-scala",
   "name": "scala",
   "pygments_lexer": "scala",
   "version": "2.11.12"
  }
 },
 "nbformat": 4,
 "nbformat_minor": 2
}
