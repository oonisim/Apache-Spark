{
 "cells": [
  {
   "cell_type": "code",
   "execution_count": 68,
   "metadata": {},
   "outputs": [],
   "source": [
    "import org.apache.spark.sql.functions._\n",
    "import org.apache.spark.sql.types._\n",
    "import org.apache.spark.sql.SaveMode\n",
    "import org.apache.spark.sql.functions._\n",
    "import java.time.temporal.ChronoUnit\n",
    "import java.time.{Period, LocalDate, Instant}\n",
    "import java.sql.Timestamp"
   ]
  },
  {
   "cell_type": "code",
   "execution_count": 76,
   "metadata": {},
   "outputs": [
    {
     "data": {
      "text/plain": [
       "base_date = 2017-01-01\n",
       "udf_months_between = UserDefinedFunction(<function1>,IntegerType,Some(List(TimestampType)))\n"
      ]
     },
     "metadata": {},
     "output_type": "display_data"
    },
    {
     "data": {
      "text/plain": [
       "get_months_between: (from: java.sql.Timestamp)Int\n"
      ]
     },
     "metadata": {},
     "output_type": "display_data"
    },
    {
     "data": {
      "text/plain": [
       "UserDefinedFunction(<function1>,IntegerType,Some(List(TimestampType)))"
      ]
     },
     "execution_count": 76,
     "metadata": {},
     "output_type": "execute_result"
    }
   ],
   "source": [
    "//val base_date = java.sql.Timestamp.valueOf(\"2017-01-01 00:00:00.0\")\n",
    "val base_date = \"2017-01-01\"\n",
    "\n",
    "def get_months_between(from: Timestamp): Int = {\n",
    "    val monthsBetween = ChronoUnit.MONTHS.between(\n",
    "        from.toLocalDateTime().toLocalDate().withDayOfMonth(1),\n",
    "        LocalDate.parse(base_date).withDayOfMonth(1)\n",
    "    )\n",
    "    monthsBetween.toInt\n",
    "}\n",
    "val udf_months_between = udf((t:Timestamp) => get_months_between(t))"
   ]
  },
  {
   "cell_type": "markdown",
   "metadata": {},
   "source": [
    "# FlightData (passenger movements)"
   ]
  },
  {
   "cell_type": "code",
   "execution_count": 85,
   "metadata": {},
   "outputs": [
    {
     "name": "stdout",
     "output_type": "stream",
     "text": [
      "root\n",
      " |-- passengerId: integer (nullable = true)\n",
      " |-- flightId: integer (nullable = true)\n",
      " |-- month: integer (nullable = false)\n",
      "\n"
     ]
    },
    {
     "data": {
      "text/plain": [
       "moves = [passengerId: int, flightId: int ... 1 more field]\n"
      ]
     },
     "metadata": {},
     "output_type": "display_data"
    },
    {
     "data": {
      "text/plain": [
       "[passengerId: int, flightId: int ... 1 more field]"
      ]
     },
     "execution_count": 85,
     "metadata": {},
     "output_type": "execute_result"
    }
   ],
   "source": [
    "val moves = spark.read.format(\"csv\")\n",
    "    .option(\"header\", \"true\")\n",
    "    .option(\"delimiter\", \",\")\n",
    "    .option(\"dateFormat\", \"yyyy-MM-dd\")\n",
    "    .option(\"inferSchema\", \"true\")\n",
    "    .load(\"../resources/flightData.csv\")\n",
    "    .withColumn(\n",
    "        \"month\", udf_months_between(col(\"date\"))\n",
    "    )\n",
    "    .select(\"passengerId\", \"flightId\", \"month\")\n",
    "   .persist()\n",
    " \n",
    "moves.printSchema()"
   ]
  },
  {
   "cell_type": "code",
   "execution_count": 86,
   "metadata": {},
   "outputs": [
    {
     "name": "stdout",
     "output_type": "stream",
     "text": [
      "+-----------+--------+-----+\n",
      "|passengerId|flightId|month|\n",
      "+-----------+--------+-----+\n",
      "|         48|       0|    0|\n",
      "|         94|       0|    0|\n",
      "|         82|       0|    0|\n",
      "|         21|       0|    0|\n",
      "|         51|       0|    0|\n",
      "+-----------+--------+-----+\n",
      "only showing top 5 rows\n",
      "\n"
     ]
    }
   ],
   "source": [
    "moves.show(5)"
   ]
  },
  {
   "cell_type": "code",
   "execution_count": 7,
   "metadata": {},
   "outputs": [],
   "source": [
    "moves.createOrReplaceTempView(\"moves\")"
   ]
  },
  {
   "cell_type": "markdown",
   "metadata": {},
   "source": [
    "# Flights\n",
    "A flight is identified with a flightId, not the movement of each passenger, which is each row of the flightData.csv."
   ]
  },
  {
   "cell_type": "code",
   "execution_count": 87,
   "metadata": {},
   "outputs": [
    {
     "data": {
      "text/plain": [
       "Name: Syntax Error.\n",
       "Message: \n",
       "StackTrace: "
      ]
     },
     "execution_count": 87,
     "metadata": {},
     "output_type": "execute_result"
    }
   ],
   "source": [
    "/*\n",
    "val queryFlights = \"\"\"\n",
    "SELECT DISTINCT\n",
    "    CAST(months_between(date, '%s') AS int) as month,\n",
    "    flightId\n",
    "FROM \n",
    "    moves \n",
    "ORDER BY \n",
    "    month, flightId\n",
    "\"\"\"\n",
    ".format(base_date)\n",
    "\n",
    "val flights = spark.sql(queryFlights)\n",
    "flights.show(5)\n",
    "*/\n",
    "/*\n",
    "val queryNumFlightsPerMonth = \"\"\"\n",
    "SELECT DISTINCT\n",
    "    month,\n",
    "    COUNT(flightId)\n",
    "FROM \n",
    "    flights\n",
    "GROUP BY\n",
    "    month\n",
    "ORDER BY \n",
    "    month\n",
    "\"\"\"\n",
    "\n",
    "val numFlightsPerMonth = spark.sql(queryNumFlightsPerMonth)\n",
    "*/"
   ]
  },
  {
   "cell_type": "code",
   "execution_count": null,
   "metadata": {},
   "outputs": [],
   "source": [
    "val monthlyFlights = moves.pivot()"
   ]
  },
  {
   "cell_type": "markdown",
   "metadata": {},
   "source": [
    "## Flights per month"
   ]
  },
  {
   "cell_type": "code",
   "execution_count": 9,
   "metadata": {},
   "outputs": [
    {
     "data": {
      "text/plain": [
       "monthlyFlights = [month: int, Flights: bigint]\n"
      ]
     },
     "metadata": {},
     "output_type": "display_data"
    },
    {
     "data": {
      "text/plain": [
       "[month: int, Flights: bigint]"
      ]
     },
     "execution_count": 9,
     "metadata": {},
     "output_type": "execute_result"
    }
   ],
   "source": [
    "val monthlyFlights = flights\n",
    "    .groupBy(\"month\")\n",
    "    .count()\n",
    "    .sort(asc(\"month\"))\n",
    "    .withColumnRenamed(\"count\", \"Flights\")\n",
    "\n",
    "monthlyFlights\n",
    "    .coalesce(1)\n",
    "    .write\n",
    "    .format(\"csv\")\n",
    "    .mode(SaveMode.Overwrite)\n",
    "    .option(\"header\", \"true\")\n",
    "    .csv(\"monthlyFlights.csv\")"
   ]
  },
  {
   "cell_type": "code",
   "execution_count": 10,
   "metadata": {},
   "outputs": [
    {
     "name": "stdout",
     "output_type": "stream",
     "text": [
      "+-----+-------+\n",
      "|month|Flights|\n",
      "+-----+-------+\n",
      "|    0|     97|\n",
      "|    1|     73|\n",
      "|    2|     82|\n",
      "|    3|     92|\n",
      "|    4|     92|\n",
      "+-----+-------+\n",
      "only showing top 5 rows\n",
      "\n"
     ]
    }
   ],
   "source": [
    "monthlyFlights.show(5)"
   ]
  },
  {
   "cell_type": "code",
   "execution_count": 13,
   "metadata": {},
   "outputs": [
    {
     "data": {
      "text/plain": [
       "lastException: Throwable = null\n"
      ]
     },
     "metadata": {},
     "output_type": "display_data"
    }
   ],
   "source": [
    "flights.createOrReplaceTempView(\"flights\")"
   ]
  },
  {
   "cell_type": "code",
   "execution_count": 14,
   "metadata": {},
   "outputs": [
    {
     "data": {
      "text/plain": [
       "queryNumFlightsPerMonth = \n",
       "numFlightsPerMonth = [month: int, count(flightId): bigint]\n"
      ]
     },
     "metadata": {},
     "output_type": "display_data"
    },
    {
     "data": {
      "text/plain": [
       "\"\n",
       "SELECT DISTINCT\n",
       "    month,\n",
       "    COUNT(flightId)\n",
       "FROM\n",
       "    flights\n",
       "GROUP BY\n",
       "    month\n",
       "ORDER BY\n",
       "    month\n",
       "\"\n"
      ]
     },
     "metadata": {},
     "output_type": "display_data"
    },
    {
     "data": {
      "text/plain": [
       "[month: int, count(flightId): bigint]"
      ]
     },
     "execution_count": 14,
     "metadata": {},
     "output_type": "execute_result"
    }
   ],
   "source": [
    "val queryNumFlightsPerMonth = \"\"\"\n",
    "SELECT DISTINCT\n",
    "    month,\n",
    "    COUNT(flightId)\n",
    "FROM \n",
    "    flights\n",
    "GROUP BY\n",
    "    month\n",
    "ORDER BY \n",
    "    month\n",
    "\"\"\"\n",
    "\n",
    "val numFlightsPerMonth = spark.sql(queryNumFlightsPerMonth)"
   ]
  },
  {
   "cell_type": "code",
   "execution_count": 15,
   "metadata": {},
   "outputs": [
    {
     "name": "stdout",
     "output_type": "stream",
     "text": [
      "+-----+---------------+\n",
      "|month|count(flightId)|\n",
      "+-----+---------------+\n",
      "|    0|             97|\n",
      "|    1|             73|\n",
      "|    2|             82|\n",
      "|    3|             92|\n",
      "|    4|             92|\n",
      "+-----+---------------+\n",
      "only showing top 5 rows\n",
      "\n"
     ]
    }
   ],
   "source": [
    "numFlightsPerMonth.show(5)"
   ]
  },
  {
   "cell_type": "code",
   "execution_count": null,
   "metadata": {},
   "outputs": [],
   "source": []
  },
  {
   "cell_type": "code",
   "execution_count": null,
   "metadata": {},
   "outputs": [],
   "source": [
    "org.apache.spark.sql.functions.months_between(\"\")"
   ]
  }
 ],
 "metadata": {
  "kernelspec": {
   "display_name": "Apache Toree - Scala",
   "language": "scala",
   "name": "apache_toree_scala"
  },
  "language_info": {
   "codemirror_mode": "text/x-scala",
   "file_extension": ".scala",
   "mimetype": "text/x-scala",
   "name": "scala",
   "pygments_lexer": "scala",
   "version": "2.11.12"
  }
 },
 "nbformat": 4,
 "nbformat_minor": 2
}
