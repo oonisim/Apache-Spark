{
 "cells": [
  {
   "cell_type": "markdown",
   "metadata": {},
   "source": [
    "# Digit Recognizer Prediction\n",
    "Prediction part of the [Kaggle Digit Reconizer](https://www.kaggle.com/c/digit-recognizer/overview). "
   ]
  },
  {
   "cell_type": "markdown",
   "metadata": {},
   "source": [
    "# Setup"
   ]
  },
  {
   "cell_type": "code",
   "execution_count": 1,
   "metadata": {},
   "outputs": [],
   "source": [
    "import org.apache.spark.sql.expressions._\n",
    "import org.apache.spark.sql.functions._\n",
    "import org.apache.spark.sql.types._\n",
    "import org.apache.spark.sql.SaveMode\n",
    "import org.apache.spark.sql.DataFrame\n",
    "import org.apache.spark.sql.Row\n",
    "\n",
    "import org.apache.spark.ml.feature._\n",
    "import org.apache.spark.ml.{Pipeline, PipelineModel}\n",
    "import org.apache.spark.ml.classification._\n",
    "\n",
    "import org.apache.spark.ml.linalg._\n",
    "import org.apache.spark.mllib.linalg._\n",
    "import org.apache.spark.mllib.linalg.distributed._\n",
    "\n",
    "\n",
    "import java.time.{Period, LocalDate, Instant}\n",
    "import java.sql.Timestamp\n",
    "import java.time.temporal.ChronoUnit"
   ]
  },
  {
   "cell_type": "code",
   "execution_count": 4,
   "metadata": {},
   "outputs": [
    {
     "data": {
      "text/plain": [
       "<console>:60: error: missing argument list for method timed\n",
       "Unapplied methods are only converted to functions when a function type is expected.\n",
       "You can make this conversion explicit by writing `timed _` or `timed(_,_)` instead of `timed`.\n",
       "       timed\n",
       "       ^\n",
       "lastException: Throwable = null\n"
      ]
     },
     "metadata": {},
     "output_type": "display_data"
    },
    {
     "data": {
      "text/html": [
       "<!-- To left align the HTML components in Markdown -->\n",
       "<style>\n",
       "table {float:left}\n",
       "</style>"
      ]
     },
     "execution_count": 4,
     "metadata": {},
     "output_type": "execute_result"
    }
   ],
   "source": [
    "%%html\n",
    "<!-- To left align the HTML components in Markdown -->\n",
    "<style>\n",
    "table {float:left}\n",
    "</style>"
   ]
  },
  {
   "cell_type": "code",
   "execution_count": 3,
   "metadata": {},
   "outputs": [
    {
     "data": {
      "text/plain": [
       "Waiting for a Spark session to start..."
      ]
     },
     "metadata": {},
     "output_type": "display_data"
    },
    {
     "data": {
      "text/plain": [
       "NUM_CORES = 8\n",
       "NUM_PARTITIONS = 4\n"
      ]
     },
     "metadata": {},
     "output_type": "display_data"
    },
    {
     "data": {
      "text/plain": [
       "<console>:60: error: missing argument list for method timed\n",
       "Unapplied methods are only converted to functions when a function type is expected.\n",
       "You can make this conversion explicit by writing `timed _` or `timed(_,_)` instead of `timed`.\n",
       "       timed\n",
       "       ^\n",
       "lastException: Throwable = null\n"
      ]
     },
     "metadata": {},
     "output_type": "display_data"
    },
    {
     "data": {
      "text/plain": [
       "4"
      ]
     },
     "execution_count": 3,
     "metadata": {},
     "output_type": "execute_result"
    }
   ],
   "source": [
    "val NUM_CORES = 8\n",
    "val NUM_PARTITIONS = 4\n",
    "\n",
    "spark.conf.set(\"spark.default.parallelism\", NUM_CORES * NUM_PARTITIONS)\n",
    "spark.conf.set(\"spark.sql.shuffle.partitions\", NUM_CORES * NUM_PARTITIONS)\n",
    "/*\n",
    "spark.conf.set(\"spark.sql.shuffle.partitions\", NUM_CORES * NUM_PARTITIONS)\n",
    "spark.conf.set(\"spark.default.parallelism\", NUM_CORES * NUM_PARTITIONS)\n",
    "spark.conf.set(\"spark.driver.memory\", \"6g\")\n",
    "spark.conf.set(\"spark.executor.memory\", \"2g\")\n",
    "spark.conf.set(\"spark.master\", \"spark://masa:7077\")\n",
    "*/"
   ]
  },
  {
   "cell_type": "code",
   "execution_count": 4,
   "metadata": {},
   "outputs": [
    {
     "name": "stdout",
     "output_type": "stream",
     "text": [
      "(spark.serializer,org.apache.spark.serializer.KryoSerializer)\n",
      "(spark.driver.host,10.115.130.67)\n",
      "(spark.eventLog.enabled,true)\n",
      "(spark.driver.port,36007)\n",
      "(spark.hadoop.validateOutputSpecs,True)\n",
      "(spark.repl.class.uri,spark://10.115.130.67:36007/classes)\n",
      "(spark.jars,file:/home/oonisim/.local/share/jupyter/kernels/apache_toree_scala/lib/toree-assembly-0.3.0-incubating.jar)\n",
      "(spark.repl.class.outputDir,/tmp/spark-53f3054e-a5e1-4cbb-b0b4-10cdfa9e0170/repl-cfb701e3-0c79-4bc7-a028-ff8f12078baf)\n",
      "(spark.app.name,Apache Toree)\n",
      "(spark.driver.memory,1g)\n",
      "(spark.executor.instances,3)\n",
      "(spark.history.fs.logdirectory,hdfs://oonisim:8020/logs_spark)\n",
      "(spark.default.parallelism,32)\n",
      "(spark.executor.id,driver)\n",
      "(spark.submit.deployMode,client)\n",
      "(spark.master,yarn)\n",
      "(spark.ui.filters,org.apache.hadoop.yarn.server.webproxy.amfilter.AmIpFilter)\n",
      "(spark.executor.memory,4g)\n",
      "(spark.eventLog.dir,hdfs://oonisim:8020/logs_spark)\n",
      "(spark.executor.cores,4)\n",
      "(spark.driver.appUIAddress,http://10.115.130.67:4041)\n",
      "(spark.org.apache.hadoop.yarn.server.webproxy.amfilter.AmIpFilter.param.PROXY_HOSTS,oonisim)\n",
      "(spark.org.apache.hadoop.yarn.server.webproxy.amfilter.AmIpFilter.param.PROXY_URI_BASES,http://oonisim:8088/proxy/application_1577335006010_0004)\n",
      "(spark.app.id,application_1577335006010_0004)\n",
      "(spark.sql.shuffle.partitions,32)\n"
     ]
    },
    {
     "data": {
      "text/plain": [
       "configMap: Unit = ()\n"
      ]
     },
     "metadata": {},
     "output_type": "display_data"
    }
   ],
   "source": [
    "val configMap = spark.conf.getAll.foreach(println)"
   ]
  },
  {
   "cell_type": "markdown",
   "metadata": {},
   "source": [
    "## Constant"
   ]
  },
  {
   "cell_type": "code",
   "execution_count": 24,
   "metadata": {},
   "outputs": [
    {
     "data": {
      "text/plain": [
       "PROTOCOL = hdfs://\n",
       "DATA_DIR = /data/kaggle/mnist/data\n",
       "MODEL_DIR = /data/kaggle/mnist/model\n",
       "RESULT_DIR = /data/kaggle/mnist/result\n",
       "COVERAGE = 0.95\n"
      ]
     },
     "metadata": {},
     "output_type": "display_data"
    },
    {
     "data": {
      "text/plain": [
       "0.95"
      ]
     },
     "execution_count": 24,
     "metadata": {},
     "output_type": "execute_result"
    }
   ],
   "source": [
    "val PROTOCOL=\"hdfs://\"\n",
    "val DATA_DIR=\"/data/kaggle/mnist/data\"\n",
    "val MODEL_DIR=\"/data/kaggle/mnist/model\"\n",
    "val RESULT_DIR=\"/data/kaggle/mnist/result\"\n",
    "\n",
    "val COVERAGE:Double = 0.95"
   ]
  },
  {
   "cell_type": "markdown",
   "metadata": {},
   "source": [
    "# MNIST Test Dataset"
   ]
  },
  {
   "cell_type": "code",
   "execution_count": 6,
   "metadata": {},
   "outputs": [
    {
     "data": {
      "text/plain": [
       "test = [pixel0: int, pixel1: int ... 782 more fields]\n"
      ]
     },
     "metadata": {},
     "output_type": "display_data"
    },
    {
     "data": {
      "text/plain": [
       "[pixel0: int, pixel1: int ... 782 more fields]"
      ]
     },
     "execution_count": 6,
     "metadata": {},
     "output_type": "execute_result"
    }
   ],
   "source": [
    "val test = spark.read.format(\"csv\")\n",
    "    .option(\"header\", true)\n",
    "    .option(\"inferSchema\", true)\n",
    "    .load(PROTOCOL + DATA_DIR + \"/test.csv.gz\")"
   ]
  },
  {
   "cell_type": "markdown",
   "metadata": {},
   "source": [
    "# Dataframe for ML training\n",
    "Use R formula transformation to create label and features columns for Spark ML."
   ]
  },
  {
   "cell_type": "code",
   "execution_count": 7,
   "metadata": {
    "scrolled": true
   },
   "outputs": [
    {
     "data": {
      "text/plain": [
       "formula = label ~ .\n",
       "rformula = RFormulaModel(ResolvedRFormula(label=label, terms=[pixel0,pixel1,pixel2,pixel3,pixel4,pixel5,pixel6,pixel7,pixel8,pixel9,pixel10,pixel11,pixel12,pixel13,pixel14,pixel15,pixel16,pixel17,pixel18,pixel19,pixel20,pixel21,pixel22,pixel23,pixel24,pixel25,pixel26,pixel27,pixel28,pixel29,pixel30,pixel31,pixel32,pixel33,pixel34,pixel35,pixel36,pixel37,pixel38,pixel39,pixel40,pixel41,pixel42,pixel43,pixel44,pixel45,pixel46,pixel47,pixel48,pixel49,pixel50,pixel51,pixel52,pixel53,pixel54,pixel55,pixel56,pixel57,pixel58,pixel59,pixel60,pixel61,pixel62,pixel63,pixel64,pixel65,pixel66,pixel67,pixel68,pixel69,pixel70,pixel71,pixel72,pixel73,pixel74,pixel75,pixel76,pixel77,pixel78,pixel79,pixel80,pixel81,pixel82,pixel83,pi...\n"
      ]
     },
     "metadata": {},
     "output_type": "display_data"
    },
    {
     "data": {
      "text/plain": [
       "RFormulaModel(ResolvedRFormula(label=label, terms=[pixel0,pixel1,pixel2,pixel3,pixel4,pixel5,pixel6,pixel7,pixel8,pixel9,pixel10,pixel11,pixel12,pixel13,pixel14,pixel15,pixel16,pixel17,pixel18,pixel19,pixel20,pixel21,pixel22,pixel23,pixel24,pixel25,pixel26,pixel27,pixel28,pixel29,pixel30,pixel31,pixel32,pixel33,pixel34,pixel35,pixel36,pixel37,pixel38,pixel39,pixel40,pixel41,pixel42,pixel43,pixel44,pixel45,pixel46,pixel47,pixel48,pixel49,pixel50,pixel51,pixel52,pixel53,pixel54,pixel55,pixel56,pixel57,pixel58,pixel59,pixel60,pixel61,pixel62,pixel63,pixel64,pixel65,pixel66,pixel67,pixel68,pixel69,pixel70,pixel71,pixel72,pixel73,pixel74,pixel75,pixel76,pixel77,pixel78,pixel79,pixel80,pixel81,pixel82,pixel83,pi..."
      ]
     },
     "execution_count": 7,
     "metadata": {},
     "output_type": "execute_result"
    }
   ],
   "source": [
    "val formula = \"label ~ .\"\n",
    "val rformula = RFormulaModel.load(PROTOCOL + MODEL_DIR + \"/kaggle_digit_recognizer_rformula.mdl\")\n",
    "val testDataDF = rformula\n",
    "    .transform(test)\n",
    "    .select(\"features\")"
   ]
  },
  {
   "cell_type": "markdown",
   "metadata": {},
   "source": [
    "# PCA"
   ]
  },
  {
   "cell_type": "code",
   "execution_count": 8,
   "metadata": {},
   "outputs": [
    {
     "data": {
      "text/plain": [
       "pca = pca_63da76466e29\n"
      ]
     },
     "metadata": {},
     "output_type": "display_data"
    },
    {
     "data": {
      "text/plain": [
       "pca_63da76466e29"
      ]
     },
     "execution_count": 8,
     "metadata": {},
     "output_type": "execute_result"
    }
   ],
   "source": [
    "val pca = PCAModel.load(PROTOCOL + MODEL_DIR + \"/kaggle_digit_recognizer_pca.mdl\")"
   ]
  },
  {
   "cell_type": "code",
   "execution_count": 9,
   "metadata": {},
   "outputs": [
    {
     "data": {
      "text/plain": [
       "pcaTestDataDF = [features: vector, pcaFeatures: vector]\n"
      ]
     },
     "metadata": {},
     "output_type": "display_data"
    },
    {
     "data": {
      "text/plain": [
       "[features: vector, pcaFeatures: vector]"
      ]
     },
     "execution_count": 9,
     "metadata": {},
     "output_type": "execute_result"
    }
   ],
   "source": [
    "val pcaTestDataDF = pca.transform(testDataDF)"
   ]
  },
  {
   "cell_type": "markdown",
   "metadata": {},
   "source": [
    "# Prediction"
   ]
  },
  {
   "cell_type": "code",
   "execution_count": 12,
   "metadata": {},
   "outputs": [
    {
     "data": {
      "text/plain": [
       "tvs = tvs_c6aadc18f7f1\n"
      ]
     },
     "metadata": {},
     "output_type": "display_data"
    },
    {
     "data": {
      "text/plain": [
       "tvs_c6aadc18f7f1"
      ]
     },
     "execution_count": 12,
     "metadata": {},
     "output_type": "execute_result"
    }
   ],
   "source": [
    "/*\n",
    "import org.apache.spark.ml.tuning.TrainValidationSplitModel\n",
    "val fitted = TrainValidationSplitModel.load(PROTOCOL + MODEL_DIR + \"/kaggle_digit_recognizer_tvs.mdl\")\n",
    "*/"
   ]
  },
  {
   "cell_type": "code",
   "execution_count": null,
   "metadata": {},
   "outputs": [],
   "source": [
    "import org.apache.spark.ml.tuning.CrossValidatorModel\n",
    "val fitted = CrossValidatorModel.load(PROTOCOL + MODEL_DIR + \"/kaggle_digit_recognizer_cv.mdl\")"
   ]
  },
  {
   "cell_type": "code",
   "execution_count": 14,
   "metadata": {},
   "outputs": [
    {
     "data": {
      "text/plain": [
       "predictions = [features: vector, pcaFeatures: vector ... 3 more fields]\n"
      ]
     },
     "metadata": {},
     "output_type": "display_data"
    },
    {
     "data": {
      "text/plain": [
       "[features: vector, pcaFeatures: vector ... 3 more fields]"
      ]
     },
     "execution_count": 14,
     "metadata": {},
     "output_type": "execute_result"
    }
   ],
   "source": [
    "val predictions = fitted.transform(pcaTestDataDF)"
   ]
  },
  {
   "cell_type": "code",
   "execution_count": 15,
   "metadata": {},
   "outputs": [
    {
     "name": "stdout",
     "output_type": "stream",
     "text": [
      "+--------------------+--------------------+--------------------+--------------------+----------+\n",
      "|            features|         pcaFeatures|       rawPrediction|         probability|prediction|\n",
      "+--------------------+--------------------+--------------------+--------------------+----------+\n",
      "|(784,[122,123,124...|[1612.42042408780...|[3.10440378782087...|[0.03104403787820...|       2.0|\n",
      "|(784,[179,180,181...|[1919.58554625988...|[89.8726237980590...|[0.89872623798059...|       0.0|\n",
      "|(784,[181,182,183...|[258.514350043858...|[3.36094066825166...|[0.03360940668251...|       9.0|\n",
      "|(784,[208,210,211...|[497.736897425884...|[7.46759295209640...|[0.07467592952096...|       4.0|\n",
      "|(784,[95,96,97,98...|[667.552229232708...|[2.55710185908117...|[0.02557101859081...|       3.0|\n",
      "|(784,[202,203,204...|[487.203794732073...|[2.54427274091337...|[0.02544272740913...|       7.0|\n",
      "|(784,[124,125,126...|[2481.24718102618...|[82.1917772496175...|[0.82191777249617...|       0.0|\n",
      "|(784,[122,123,124...|[1010.70828480165...|[8.84884446262091...|[0.08848844462620...|       3.0|\n",
      "|(784,[153,154,155...|[1997.83281735405...|[92.9119416400884...|[0.92911941640088...|       0.0|\n",
      "|(784,[121,122,123...|[815.544101062854...|[0.49995932007300...|[0.00499959320073...|       3.0|\n",
      "|(784,[155,156,157...|[1040.42285051346...|[0.38775270601846...|[0.00387752706018...|       5.0|\n",
      "|(784,[179,180,181...|[348.064542982559...|[3.38012863659269...|[0.03380128636592...|       7.0|\n",
      "|(784,[147,148,149...|[609.001195958960...|[0.09115815691158...|[9.11581569115815...|       4.0|\n",
      "|(784,[126,127,128...|[2378.43162566382...|[91.3520568777765...|[0.91352056877776...|       0.0|\n",
      "|(784,[177,178,204...|[807.580325397994...|[1.02454080096356...|[0.01024540800963...|       4.0|\n",
      "|(784,[120,121,122...|[1948.46110672588...|[10.1809588520756...|[0.10180958852075...|       3.0|\n",
      "|(784,[119,120,121...|[938.449458365679...|[1.21642039684859...|[0.01216420396848...|       3.0|\n",
      "|(784,[125,126,153...|[-53.747515943519...|[0.10161579174312...|[0.00101615791743...|       1.0|\n",
      "|(784,[179,180,181...|[476.763591666676...|[0.07801212427380...|[7.80121242738065...|       9.0|\n",
      "|(784,[123,124,125...|[1928.31618068484...|[92.9221191245062...|[0.92922119124506...|       0.0|\n",
      "+--------------------+--------------------+--------------------+--------------------+----------+\n",
      "only showing top 20 rows\n",
      "\n"
     ]
    }
   ],
   "source": [
    "predictions.show"
   ]
  },
  {
   "cell_type": "code",
   "execution_count": 23,
   "metadata": {},
   "outputs": [
    {
     "data": {
      "text/plain": [
       "lastException: Throwable = null\n"
      ]
     },
     "metadata": {},
     "output_type": "display_data"
    }
   ],
   "source": [
    "predictions\n",
    "    .selectExpr(\"cast(prediction as int) as Label\")\n",
    "    .coalesce(1)\n",
    "    .write\n",
    "    .format(\"csv\")\n",
    "    .option(\"header\", \"false\")\n",
    "    .mode(\"overwrite\")\n",
    "    .save(PROTOCOL + RESULT_DIR + \"/kaggle_digit_recognizer_predictions.csv\")"
   ]
  },
  {
   "cell_type": "code",
   "execution_count": null,
   "metadata": {},
   "outputs": [],
   "source": [
    "%bash\n",
    "hadoop fs -get \"${RESULT_DIR}/kaggle_digit_recognizer_predictions.csv\"\n",
    "cd \"${RESULT_DIR}/kaggle_digit_recognizer_predictions.csv\"\n",
    "nl -nln -s',' part-* | tr -d ' ' > predictions.csv "
   ]
  }
 ],
 "metadata": {
  "kernelspec": {
   "display_name": "Apache Toree - Scala",
   "language": "scala",
   "name": "apache_toree_scala"
  },
  "language_info": {
   "codemirror_mode": "text/x-scala",
   "file_extension": ".scala",
   "mimetype": "text/x-scala",
   "name": "scala",
   "pygments_lexer": "scala",
   "version": "2.11.12"
  }
 },
 "nbformat": 4,
 "nbformat_minor": 2
}
